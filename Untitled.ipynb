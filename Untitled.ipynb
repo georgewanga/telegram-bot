{
 "cells": [
  {
   "cell_type": "code",
   "execution_count": 1,
   "id": "bf6b2029-13a2-467f-b987-60f5b8fbfbb0",
   "metadata": {},
   "outputs": [],
   "source": [
    "import re\n",
    "from typing import Optional, List, Dict\n",
    "\n",
    "def validate_signal_data(signal: dict) -> bool:\n",
    "    required_keys = ['instrument_id', 'side', 'stop_price', 'stop_lose_value', 'take_profit_values']\n",
    "    for key in required_keys:\n",
    "        value = signal.get(key)\n",
    "        if value is None:\n",
    "            return False\n",
    "        if isinstance(value, (str, list)) and not value:\n",
    "            return False\n",
    "    return True\n",
    "\n",
    "def parse_signal(message: str) -> Dict[str, Optional[object]]:\n",
    "    try:\n",
    "        message = message.upper()\n",
    "\n",
    "        # Alias mapping\n",
    "        alias_map = {\n",
    "            'GOLD': 'XAUUSD',\n",
    "            'XAU': 'XAUUSD',\n",
    "            'XAUUSD': 'XAUUSD',\n",
    "        }\n",
    "\n",
    "        # Match instrument and side\n",
    "        match = re.search(r'\\b([A-Z]{3,6})\\b.*?\\b(BUY|SELL)\\b', message) or \\\n",
    "                re.search(r'\\b(BUY|SELL)\\b.*?\\b([A-Z]{3,6})\\b', message)\n",
    "        \n",
    "        if match:\n",
    "            if match.group(1) in ['BUY', 'SELL']:\n",
    "                side = match.group(1).lower()\n",
    "                instrument_raw = match.group(2)\n",
    "            else:\n",
    "                instrument_raw = match.group(1)\n",
    "                side = match.group(2).lower()\n",
    "        else:\n",
    "            raise ValueError(\"Instrument or side not found\")\n",
    "        \n",
    "        instrument_id = alias_map.get(instrument_raw.strip(), instrument_raw.strip())\n",
    "        \n",
    "        # Determine instrument_type based on instrument_id\n",
    "        instrument_type = \"cfd\" if instrument_id == \"XAUUSD\" else \"forex\"\n",
    "\n",
    "        # Extract entry price\n",
    "        stop_price: Optional[float] = None\n",
    "        try:\n",
    "            price_match = re.search(\n",
    "                rf'{instrument_raw}\\s+{side.upper()}\\s+([\\d.]+)', message\n",
    "            ) or re.search(\n",
    "                rf'{side.upper()}\\s+{instrument_raw}\\s+([\\d.]+)', message\n",
    "            ) or re.search(\n",
    "                rf'{side.upper()}\\s+(NOW\\s+)?@?\\s*([\\d.]+)', message\n",
    "            )\n",
    "\n",
    "            if price_match:\n",
    "                stop_price = float(price_match.group(1) if price_match.lastindex == 1 else price_match.group(2))\n",
    "        except ValueError:\n",
    "            stop_price = None\n",
    "\n",
    "        if stop_price is None:\n",
    "            try:\n",
    "                range_match = re.search(r'ENTER\\s*[<]?\\s*([\\d.]+)\\s*[-–]\\s*([\\d.]+)', message) or \\\n",
    "                              re.search(r'([\\d.]+)\\s*[-–]\\s*([\\d.]+)', message)\n",
    "                if range_match:\n",
    "                    low = float(range_match.group(1))\n",
    "                    high = float(range_match.group(2))\n",
    "                    stop_price = round((low + high) / 2, 2)\n",
    "            except ValueError:\n",
    "                stop_price = None\n",
    "\n",
    "        if stop_price is None:\n",
    "            raise ValueError(\"Entry price not found.\")\n",
    "\n",
    "        # Stop Loss\n",
    "        try:\n",
    "            sl_match = re.search(r'\\bSL\\b\\s*@?\\s*[:\\-]?\\s*([\\d.]+)', message) or \\\n",
    "                       re.search(r'STOP\\s+LOSS\\s*[:\\-]?\\s*([\\d.]+)', message)\n",
    "            stop_lose_value = float(sl_match.group(1)) if sl_match else None\n",
    "        except ValueError:\n",
    "            stop_lose_value = None\n",
    "\n",
    "        # Take Profits (Updated Regex)\n",
    "        try:\n",
    "            tp_matches = re.findall(\n",
    "                r'\\bTP\\d*\\s*[:\\s@=]?\\s*(?:\\d+\\s+)?(\\d+\\.?\\d*)', message, re.IGNORECASE\n",
    "            ) or re.findall(\n",
    "                r'TAKE\\s+PROFIT\\s*\\d*\\s*[:\\-=]?\\s*(\\d+\\.?\\d*)', message, re.IGNORECASE\n",
    "            )\n",
    "        \n",
    "            take_profit_values: List[float] = []\n",
    "            for tp in tp_matches:\n",
    "                try:\n",
    "                    val = float(tp.strip())\n",
    "                    if 0 < val < 100000:\n",
    "                        take_profit_values.append(val)\n",
    "                except ValueError:\n",
    "                    continue\n",
    "        except Exception:\n",
    "            take_profit_values = []\n",
    "\n",
    "        return {\n",
    "            'instrument_id': instrument_id,\n",
    "            'instrument_type': instrument_type,\n",
    "            'side': side,\n",
    "            'stop_price': stop_price,\n",
    "            'stop_lose_value': stop_lose_value,\n",
    "            'take_profit_values': take_profit_values\n",
    "        }\n",
    "\n",
    "    except ValueError as ve:\n",
    "        print(f\"ValueError: {ve}\")\n",
    "        return {\n",
    "            'instrument_id': None,\n",
    "            'instrument_type': None,\n",
    "            'side': None,\n",
    "            'stop_price': None,\n",
    "            'stop_lose_value': None,\n",
    "            'take_profit_values': []\n",
    "        }\n",
    "\n",
    "    except Exception as e:\n",
    "        print(f\"Unexpected error: {e}\")\n",
    "        return {\n",
    "            'instrument_id': None,\n",
    "            'instrument_type': None,\n",
    "            'side': None,\n",
    "            'stop_price': None,\n",
    "            'stop_lose_value': None,\n",
    "            'take_profit_values': []\n",
    "        }"
   ]
  },
  {
   "cell_type": "code",
   "execution_count": 2,
   "id": "58f60ef1-1edc-45a5-b070-ac5d722ffcce",
   "metadata": {},
   "outputs": [
    {
     "data": {
      "text/plain": [
       "{'instrument_id': 'XAUUSD',\n",
       " 'instrument_type': 'cfd',\n",
       " 'side': 'buy',\n",
       " 'stop_price': 3213.0,\n",
       " 'stop_lose_value': 3200.0,\n",
       " 'take_profit_values': [3215.0, 3217.0, 3218.0, 3328.0]}"
      ]
     },
     "execution_count": 2,
     "metadata": {},
     "output_type": "execute_result"
    }
   ],
   "source": [
    "message = \"\"\"🟢XAUUSD buy 3213🔼\n",
    "\n",
    "TP 1 3215\n",
    "TP 2 3217\n",
    "TP 3 3218\n",
    "TP 4 3328\n",
    "\n",
    "SL @ 3200\"\"\"\n",
    "parse_signal(message)\n"
   ]
  },
  {
   "cell_type": "code",
   "execution_count": 3,
   "id": "a5517f6e-92f4-42dd-89f7-3782e519896c",
   "metadata": {},
   "outputs": [
    {
     "data": {
      "text/plain": [
       "{'instrument_id': 'XAUUSD',\n",
       " 'instrument_type': 'cfd',\n",
       " 'side': 'buy',\n",
       " 'stop_price': 3230.0,\n",
       " 'stop_lose_value': 3226.0,\n",
       " 'take_profit_values': [3234.0, 3247.0, 3250.0, 3260.0]}"
      ]
     },
     "execution_count": 3,
     "metadata": {},
     "output_type": "execute_result"
    }
   ],
   "source": [
    "message = \"\"\"BUY Gold:\n",
    "\n",
    "Enter <3232-3228>\n",
    "\n",
    "Stop Loss:3226\n",
    "\n",
    "Take profit 1:3234\n",
    "Take profit 2:3247\n",
    "Take profit 3:3250\n",
    "Take profit 4:3260\"\"\"\n",
    "parse_signal(message)"
   ]
  },
  {
   "cell_type": "code",
   "execution_count": 4,
   "id": "823aa159-1778-4d9b-97f9-de28a279ca5b",
   "metadata": {},
   "outputs": [
    {
     "data": {
      "text/plain": [
       "{'instrument_id': 'XAUUSD',\n",
       " 'instrument_type': 'cfd',\n",
       " 'side': 'buy',\n",
       " 'stop_price': 3240.0,\n",
       " 'stop_lose_value': 3223.0,\n",
       " 'take_profit_values': [3243.0, 3244.0, 3245.0, 3260.0]}"
      ]
     },
     "execution_count": 4,
     "metadata": {},
     "output_type": "execute_result"
    }
   ],
   "source": [
    "message = \"\"\"XAUUSD buy 3240\n",
    "\n",
    "TP 1 3243\n",
    "TP 2 3244\n",
    "TP 3 3245\n",
    "TP 4 3260\n",
    "\n",
    "SL @ 3223\"\"\"\n",
    "parse_signal(message)"
   ]
  },
  {
   "cell_type": "code",
   "execution_count": 5,
   "id": "e2d22163-5fa6-4581-a649-fc65cc06b76b",
   "metadata": {},
   "outputs": [
    {
     "data": {
      "text/plain": [
       "{'instrument_id': 'XAUUSD',\n",
       " 'instrument_type': 'cfd',\n",
       " 'side': 'buy',\n",
       " 'stop_price': 3232.0,\n",
       " 'stop_lose_value': 3223.1,\n",
       " 'take_profit_values': [3233.4, 3235.6, 3239.1]}"
      ]
     },
     "execution_count": 5,
     "metadata": {},
     "output_type": "execute_result"
    }
   ],
   "source": [
    "message = \"\"\"BUY XAUUSD 3232\n",
    "\n",
    "TP1: 3233.4\n",
    "TP2: 3235.6\n",
    "TP3: 3239.1\n",
    "\n",
    "🔴SL: 3223.1\"\"\"\n",
    "parse_signal(message)\n"
   ]
  },
  {
   "cell_type": "code",
   "execution_count": 6,
   "id": "86dcd1d5-f68a-4894-b672-d158df56f04e",
   "metadata": {},
   "outputs": [
    {
     "data": {
      "text/plain": [
       "{'instrument_id': 'XAUUSD',\n",
       " 'instrument_type': 'cfd',\n",
       " 'side': 'sell',\n",
       " 'stop_price': 3226.5,\n",
       " 'stop_lose_value': 3233.5,\n",
       " 'take_profit_values': [3223.5, 3215.5, 3213.4]}"
      ]
     },
     "execution_count": 6,
     "metadata": {},
     "output_type": "execute_result"
    }
   ],
   "source": [
    "message = \"\"\"Gold sell now @3226.5 -3229.5\n",
    "\n",
    "sl:3233.5\n",
    "\n",
    "tp1:3223.5\n",
    "tp2:3215.5\n",
    "tp3:3213.4\"\"\"\n",
    "parse_signal(message)"
   ]
  },
  {
   "cell_type": "code",
   "execution_count": 7,
   "id": "140b3242-150a-4f56-953c-36f45fe14f6d",
   "metadata": {},
   "outputs": [
    {
     "data": {
      "text/plain": [
       "{'instrument_id': 'XAUUSD',\n",
       " 'instrument_type': 'cfd',\n",
       " 'side': 'sell',\n",
       " 'stop_price': 3248.0,\n",
       " 'stop_lose_value': 3254.0,\n",
       " 'take_profit_values': [3246.0, 3244.0, 3242.0, 3238.0]}"
      ]
     },
     "execution_count": 7,
     "metadata": {},
     "output_type": "execute_result"
    }
   ],
   "source": [
    "message = \"\"\"Xauusd sell now 3248 - 3251\n",
    "\n",
    "SL: 3254\n",
    "\n",
    "TP: 3246\n",
    "TP: 3244\n",
    "TP: 3242\n",
    "TP: 3238\"\"\"\n",
    "parse_signal(message)\n"
   ]
  },
  {
   "cell_type": "code",
   "execution_count": 8,
   "id": "493f662b-ad97-46f8-86c7-a82e1c74173f",
   "metadata": {},
   "outputs": [
    {
     "data": {
      "text/plain": [
       "{'instrument_id': 'XAUUSD',\n",
       " 'instrument_type': 'cfd',\n",
       " 'side': 'sell',\n",
       " 'stop_price': 3252.0,\n",
       " 'stop_lose_value': 3261.0,\n",
       " 'take_profit_values': [3250.0, 3248.0, 3242.0]}"
      ]
     },
     "execution_count": 8,
     "metadata": {},
     "output_type": "execute_result"
    }
   ],
   "source": [
    "message = \"\"\"XAUUSD | SELL \n",
    "\n",
    "SELL @ 3252\n",
    "\n",
    "TP1: 3250\n",
    "TP2: 3248\n",
    "TP3: 3242\n",
    "\n",
    "SL: 3261\"\"\"\n",
    "parse_signal(message)\n"
   ]
  },
  {
   "cell_type": "code",
   "execution_count": 9,
   "id": "735bc131-f92d-4ec2-805b-5f05981cdef7",
   "metadata": {},
   "outputs": [
    {
     "data": {
      "text/plain": [
       "{'instrument_id': 'XAUUSD',\n",
       " 'instrument_type': 'cfd',\n",
       " 'side': 'buy',\n",
       " 'stop_price': 3229.0,\n",
       " 'stop_lose_value': 3224.5,\n",
       " 'take_profit_values': [3233.5, 3236.0]}"
      ]
     },
     "execution_count": 9,
     "metadata": {},
     "output_type": "execute_result"
    }
   ],
   "source": [
    "message = \"\"\"Buy Gold @3231.5-3226.5\n",
    "\n",
    "Sl :3224.5\n",
    "Tp1 :3233.5\n",
    "Tp2 :3236\n",
    "\n",
    "USE PROPER RISK MANAGEMENT\"\"\"\n",
    "parse_signal(message)\n"
   ]
  },
  {
   "cell_type": "code",
   "execution_count": 10,
   "id": "f2045beb-20fb-4d34-84e0-71dbfe896dcb",
   "metadata": {},
   "outputs": [
    {
     "data": {
      "text/plain": [
       "{'instrument_id': 'GBPJPY',\n",
       " 'instrument_type': 'forex',\n",
       " 'side': 'buy',\n",
       " 'stop_price': 193.19,\n",
       " 'stop_lose_value': 192.7,\n",
       " 'take_profit_values': [193.3, 193.5, 193.7, 193.9]}"
      ]
     },
     "execution_count": 10,
     "metadata": {},
     "output_type": "execute_result"
    }
   ],
   "source": [
    "message = \"\"\"GBPJPY BUY NOW 193.190\n",
    "TP 193.300\n",
    "TP 193.500\n",
    "TP 193.700\n",
    "TP 193.900\n",
    "SL 192.700\"\"\"\n",
    "parse_signal(message)\n"
   ]
  },
  {
   "cell_type": "code",
   "execution_count": null,
   "id": "166f5899-fa9d-490b-a406-da1d9f17e576",
   "metadata": {},
   "outputs": [],
   "source": []
  }
 ],
 "metadata": {
  "kernelspec": {
   "display_name": "Python 3 (ipykernel)",
   "language": "python",
   "name": "python3"
  },
  "language_info": {
   "codemirror_mode": {
    "name": "ipython",
    "version": 3
   },
   "file_extension": ".py",
   "mimetype": "text/x-python",
   "name": "python",
   "nbconvert_exporter": "python",
   "pygments_lexer": "ipython3",
   "version": "3.13.1"
  }
 },
 "nbformat": 4,
 "nbformat_minor": 5
}
